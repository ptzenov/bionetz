{
 "cells": [
  {
   "cell_type": "code",
   "execution_count": 1,
   "metadata": {
    "collapsed": true
   },
   "outputs": [],
   "source": [
    "import pandas as pd\n",
    "import numpy as np \n",
    "import scipy as sp\n",
    "import matplotlib.pylab as plt"
   ]
  },
  {
   "cell_type": "markdown",
   "metadata": {},
   "source": [
    "## A simple multivariate-normal-distribution implementation for anomaly detection of the driving patterns\n",
    "\n"
   ]
  },
  {
   "cell_type": "code",
   "execution_count": 5,
   "metadata": {},
   "outputs": [
    {
     "data": {
      "text/plain": [
       "Index([u'id', u'timestamp', u'session_id', u'user_id', u'pc_throttle',\n       u'pc_brake', u'pc_steering', u'pc_rpm', u'pc_speed', u'pc_pos_x',\n       u'pc_pos_y', u'pc_pos_z', u'pc_laptime', u'pc_race_state',\n       u'pc_lap_number', u'pc_lap_distance', u'vr_pos_x', u'vr_pos_y',\n       u'vr_pos_z', u'vr_rotation_x', u'vr_rotation_y', u'vr_rotation_z',\n       u'logitech_acceleration', u'logitech_brake', u'logitech_steering'],\n      dtype='object')"
      ]
     },
     "execution_count": 5,
     "metadata": {},
     "output_type": "execute_result"
    }
   ],
   "source": [
    "df = pd.read_csv('dataset.csv')\n",
    "df.columns"
   ]
  },
  {
   "cell_type": "code",
   "execution_count": 6,
   "metadata": {},
   "outputs": [],
   "source": [
    "float_cols = [i for i in df.dtypes.index if df.dtypes[i] == 'float64']\n",
    "cat_cols = [i for i in df.dtypes.index if df.dtypes[i] == 'int64']\n",
    "other_cols = list(set(df.columns) - (set(float_cols) | set(cat_cols)))"
   ]
  },
  {
   "cell_type": "code",
   "execution_count": 174,
   "metadata": {},
   "outputs": [],
   "source": [
    "### multivariate normal distribution on the floats\n",
    "df_flt = df[float_cols].copy()\n",
    "df_flt.drop(['pc_lap_distance'],inplace=True,axis = 1)\n",
    "float_cols = df_flt.columns\n",
    "\n",
    "df_flt.reset_index(inplace = True,drop=True)\n",
    "\n",
    "df_cat = df[cat_cols].copy() \n",
    "drivers = df_cat['user_id'].unique()\n",
    "session = df_cat['session_id'].unique()\n",
    "mean, std = df_flt.mean(), df_flt.std()\n",
    "cov = df_flt.cov()\n",
    "\n",
    "#feature space dim \n",
    "num_features,num_samples = len(float_cols), len(df_flt)"
   ]
  },
  {
   "cell_type": "code",
   "execution_count": 175,
   "metadata": {
    "collapsed": false
   },
   "outputs": [
    {
     "data": {
      "text/plain": [
       "Index([u'pc_throttle', u'pc_brake', u'pc_steering', u'pc_rpm', u'pc_speed',\n       u'pc_pos_x', u'pc_pos_y', u'pc_pos_z', u'pc_laptime', u'vr_pos_x',\n       u'vr_pos_y', u'vr_pos_z', u'vr_rotation_x', u'vr_rotation_y',\n       u'vr_rotation_z'],\n      dtype='object')"
      ]
     },
     "execution_count": 175,
     "metadata": {},
     "output_type": "execute_result"
    }
   ],
   "source": [
    "df_flt.columns"
   ]
  },
  {
   "cell_type": "code",
   "execution_count": 176,
   "metadata": {
    "collapsed": true
   },
   "outputs": [],
   "source": [
    "def unnormalized_covariance(A,mu):\n",
    "    \"\"\"\n",
    "    \n",
    "    :param A: the design matrix A in R^{MxN} where each row is a separate sample point and the columns represent\n",
    "    the dimension\n",
    "    :param mu: a R^Nx1 vector with means \n",
    "    :return: \n",
    "    \"\"\"\n",
    "    # A is the design matrix     \n",
    "    (M,N) = A.shape\n",
    "    mean = np.matlib.repmat(mu,M,1)\n",
    "    A = A-mean # desing matrix with subtracted out mean! \n",
    "    return np.matmul(A.T,A), N\n",
    "\n",
    "def MVN_prob(x,mu, Pr,dPr):\n",
    "    \"\"\"\n",
    "    calculate the p-value of X for a multivariate normal distribution \n",
    "    :param x: the feature vector  \n",
    "    :param mu: the means \n",
    "    :param Pr: the precision matrix  (the iverse of the covariance matix!)\n",
    "    :param dPr: the determinant of the precision matrix \n",
    "    :return: \n",
    "    \"\"\"\n",
    "    assert Pr.shape[0] == Pr.shape[1]\n",
    "    assert x.shape == mu.shape \n",
    "    assert max(x.shape) == Pr.shape[0]\n",
    "    \n",
    "    N = max(x.shape) # dimensions of the feature vector! \n",
    "    n = min(x.shape)\n",
    "    \n",
    "    x.shape = (N,n)\n",
    "    mu.shape = (N,n)\n",
    "    \n",
    "    # check for bad data ! \n",
    "    assert n == 1 , \" invalid data format - x must be a rank 1 tensor \" \n",
    "    \n",
    "    x = x.reshape([N,1])\n",
    "    N = len(x)\n",
    "    return np.sqrt(dPr/(2*np.pi)**N)\\\n",
    "           *np.exp(-0.5*np.matmul(np.matmul((x-mu).T,Pr),x))"
   ]
  },
  {
   "cell_type": "code",
   "execution_count": 177,
   "metadata": {},
   "outputs": [],
   "source": [
    ""
   ]
  },
  {
   "cell_type": "code",
   "execution_count": 177,
   "metadata": {},
   "outputs": [],
   "source": [
    "x = np.array([[0, 2], [1, 1], [2, 0]])\n",
    "dff = pd.DataFrame(x)\n",
    "cov,N = unnormalized_covariance(dff.as_matrix(),dff.mean().as_matrix())"
   ]
  },
  {
   "cell_type": "code",
   "execution_count": 178,
   "metadata": {},
   "outputs": [],
   "source": [
    "# normalize the data // different scales lead to cancellation \n",
    "data = df_flt.copy()\n",
    "mu = data.mean().as_matrix()\n",
    "original_means = np.matlib.repmat(mu,data.shape[0],1)\n",
    "data = data-original_means"
   ]
  },
  {
   "cell_type": "code",
   "execution_count": 180,
   "metadata": {
    "collapsed": true
   },
   "outputs": [
    {
     "name": "stderr",
     "output_type": "stream",
     "text": [
      "/home/kenny/programs/anaconda2/envs/scicomp/lib/python2.7/site-packages/ipykernel/__main__.py:39: RuntimeWarning: invalid value encountered in sqrt\n/home/kenny/programs/anaconda2/envs/scicomp/lib/python2.7/site-packages/ipykernel/__main__.py:39: RuntimeWarning: overflow encountered in exp\n"
     ]
    },
    {
     "ename": "LinAlgError",
     "evalue": "Singular matrix",
     "traceback": [
      "\u001b[0;31m\u001b[0m",
      "\u001b[0;31mLinAlgError\u001b[0mTraceback (most recent call last)",
      "\u001b[0;32m<ipython-input-180-8054747dd6c8>\u001b[0m in \u001b[0;36m<module>\u001b[0;34m()\u001b[0m\n\u001b[1;32m     18\u001b[0m \u001b[0;34m\u001b[0m\u001b[0m\n\u001b[1;32m     19\u001b[0m \u001b[0;34m\u001b[0m\u001b[0m\n\u001b[0;32m---> 20\u001b[0;31m     \u001b[0mPr\u001b[0m \u001b[0;34m=\u001b[0m \u001b[0mnp\u001b[0m\u001b[0;34m.\u001b[0m\u001b[0mlinalg\u001b[0m\u001b[0;34m.\u001b[0m\u001b[0minv\u001b[0m\u001b[0;34m(\u001b[0m\u001b[0mcov\u001b[0m\u001b[0;34m)\u001b[0m\u001b[0;34m\u001b[0m\u001b[0m\n\u001b[0m\u001b[1;32m     21\u001b[0m     \u001b[0mdPr\u001b[0m \u001b[0;34m=\u001b[0m \u001b[0mnp\u001b[0m\u001b[0;34m.\u001b[0m\u001b[0mlinalg\u001b[0m\u001b[0;34m.\u001b[0m\u001b[0mdet\u001b[0m\u001b[0;34m(\u001b[0m\u001b[0mPr\u001b[0m\u001b[0;34m)\u001b[0m\u001b[0;34m\u001b[0m\u001b[0m\n\u001b[1;32m     22\u001b[0m \u001b[0;34m\u001b[0m\u001b[0m\n",
      "\u001b[0;32m/home/kenny/programs/anaconda2/envs/scicomp/lib/python2.7/site-packages/numpy/linalg/linalg.pyc\u001b[0m in \u001b[0;36minv\u001b[0;34m(a)\u001b[0m\n\u001b[1;32m    524\u001b[0m     \u001b[0msignature\u001b[0m \u001b[0;34m=\u001b[0m \u001b[0;34m'D->D'\u001b[0m \u001b[0;32mif\u001b[0m \u001b[0misComplexType\u001b[0m\u001b[0;34m(\u001b[0m\u001b[0mt\u001b[0m\u001b[0;34m)\u001b[0m \u001b[0;32melse\u001b[0m \u001b[0;34m'd->d'\u001b[0m\u001b[0;34m\u001b[0m\u001b[0m\n\u001b[1;32m    525\u001b[0m     \u001b[0mextobj\u001b[0m \u001b[0;34m=\u001b[0m \u001b[0mget_linalg_error_extobj\u001b[0m\u001b[0;34m(\u001b[0m\u001b[0m_raise_linalgerror_singular\u001b[0m\u001b[0;34m)\u001b[0m\u001b[0;34m\u001b[0m\u001b[0m\n\u001b[0;32m--> 526\u001b[0;31m     \u001b[0mainv\u001b[0m \u001b[0;34m=\u001b[0m \u001b[0m_umath_linalg\u001b[0m\u001b[0;34m.\u001b[0m\u001b[0minv\u001b[0m\u001b[0;34m(\u001b[0m\u001b[0ma\u001b[0m\u001b[0;34m,\u001b[0m \u001b[0msignature\u001b[0m\u001b[0;34m=\u001b[0m\u001b[0msignature\u001b[0m\u001b[0;34m,\u001b[0m \u001b[0mextobj\u001b[0m\u001b[0;34m=\u001b[0m\u001b[0mextobj\u001b[0m\u001b[0;34m)\u001b[0m\u001b[0;34m\u001b[0m\u001b[0m\n\u001b[0m\u001b[1;32m    527\u001b[0m     \u001b[0;32mreturn\u001b[0m \u001b[0mwrap\u001b[0m\u001b[0;34m(\u001b[0m\u001b[0mainv\u001b[0m\u001b[0;34m.\u001b[0m\u001b[0mastype\u001b[0m\u001b[0;34m(\u001b[0m\u001b[0mresult_t\u001b[0m\u001b[0;34m,\u001b[0m \u001b[0mcopy\u001b[0m\u001b[0;34m=\u001b[0m\u001b[0mFalse\u001b[0m\u001b[0;34m)\u001b[0m\u001b[0;34m)\u001b[0m\u001b[0;34m\u001b[0m\u001b[0m\n\u001b[1;32m    528\u001b[0m \u001b[0;34m\u001b[0m\u001b[0m\n",
      "\u001b[0;32m/home/kenny/programs/anaconda2/envs/scicomp/lib/python2.7/site-packages/numpy/linalg/linalg.pyc\u001b[0m in \u001b[0;36m_raise_linalgerror_singular\u001b[0;34m(err, flag)\u001b[0m\n\u001b[1;32m     88\u001b[0m \u001b[0;34m\u001b[0m\u001b[0m\n\u001b[1;32m     89\u001b[0m \u001b[0;32mdef\u001b[0m \u001b[0m_raise_linalgerror_singular\u001b[0m\u001b[0;34m(\u001b[0m\u001b[0merr\u001b[0m\u001b[0;34m,\u001b[0m \u001b[0mflag\u001b[0m\u001b[0;34m)\u001b[0m\u001b[0;34m:\u001b[0m\u001b[0;34m\u001b[0m\u001b[0m\n\u001b[0;32m---> 90\u001b[0;31m     \u001b[0;32mraise\u001b[0m \u001b[0mLinAlgError\u001b[0m\u001b[0;34m(\u001b[0m\u001b[0;34m\"Singular matrix\"\u001b[0m\u001b[0;34m)\u001b[0m\u001b[0;34m\u001b[0m\u001b[0m\n\u001b[0m\u001b[1;32m     91\u001b[0m \u001b[0;34m\u001b[0m\u001b[0m\n\u001b[1;32m     92\u001b[0m \u001b[0;32mdef\u001b[0m \u001b[0m_raise_linalgerror_nonposdef\u001b[0m\u001b[0;34m(\u001b[0m\u001b[0merr\u001b[0m\u001b[0;34m,\u001b[0m \u001b[0mflag\u001b[0m\u001b[0;34m)\u001b[0m\u001b[0;34m:\u001b[0m\u001b[0;34m\u001b[0m\u001b[0m\n",
      "\u001b[0;31mLinAlgError\u001b[0m: Singular matrix"
     ],
     "output_type": "error"
    }
   ],
   "source": [
    "#### \n",
    "data['pval'] = 0. \n",
    "\n",
    "# M is the number of samples per update! \n",
    "M = num_features*10\n",
    "p_val = 5./100. # 5 percent\n",
    "\n",
    "num_epochs = int(num_samples/M)\n",
    "singular_mtx_counter = 0 \n",
    "for epoch in range(0,num_epochs):\n",
    "    interval = range(epoch*M,M*(epoch+1))\n",
    "    # design matirx\n",
    "    A = data.ix[interval,float_cols].as_matrix()\n",
    "    mu = data.ix[interval,float_cols].mean().as_matrix()\n",
    "    cov,N = unnormalized_covariance(A,mu)\n",
    "    cov /= N # for the maximum likelihood? estimator! \n",
    "    mu.shape = (N,1)\n",
    "    \n",
    "    \n",
    "    Pr = np.linalg.inv(cov)\n",
    "    dPr = np.linalg.det(Pr)\n",
    "    \n",
    "    if dPr == 0:\n",
    "        print \"singular matrix?!\"\n",
    "        singular_mtx_counter +=1 \n",
    "        continue\n",
    "        \n",
    "    ### make fast !!!! \n",
    "    for t in interval:\n",
    "        x =  data.ix[t,float_cols].as_matrix()\n",
    "        x.shape = (N,1)\n",
    "        pval = MVN_prob(x,mu, Pr,dPr)\n",
    "        data.ix[t,'pval'] = pval"
   ]
  },
  {
   "cell_type": "code",
   "execution_count": null,
   "metadata": {
    "collapsed": true
   },
   "outputs": [
    {
     "data": {
      "text/plain": [
       "array([  5.81460279e-01,  -1.37434021e-01,  -1.31094476e-02,\n         2.77393271e+03,   4.42206354e+01,   1.64556071e+02,\n         9.18128468e+00,   3.34073239e+01,   4.31910477e+01,\n                    nan,  -1.95950477e+00,  -1.11360512e+00,\n         2.60612827e-02,  -4.36728296e-01,   4.55864772e-01,\n         6.00823756e-01])"
      ]
     },
     "execution_count": 164,
     "metadata": {},
     "output_type": "execute_result"
    }
   ],
   "source": [
    "data.ix[t,float_cols].as_matrix()"
   ]
  },
  {
   "cell_type": "code",
   "execution_count": 159,
   "metadata": {},
   "outputs": [
    {
     "data": {
      "text/plain": [
       "array([[ 0.41853972,  0.13743402,  0.01194615, ..., -0.52324877,\n        -0.01152576,  0.        ],\n       [ 0.41853972,  0.13743402,  0.01194615, ..., -0.52324877,\n        -0.01152576,  0.        ],\n       [ 0.41853972,  0.13743402,  0.01194615, ..., -0.52324877,\n        -0.01152576,  0.        ],\n       ..., \n       [ 0.41853972,  0.13743402,  0.01194615, ..., -0.52324877,\n        -0.01152576,  0.        ],\n       [ 0.41853972,  0.13743402,  0.01194615, ..., -0.52324877,\n        -0.01152576,  0.        ],\n       [ 0.41853972,  0.13743402,  0.01194615, ..., -0.52324877,\n        -0.01152576,  0.        ]])"
      ]
     },
     "execution_count": 159,
     "metadata": {},
     "output_type": "execute_result"
    }
   ],
   "source": [
    "df_flt"
   ]
  },
  {
   "cell_type": "code",
   "execution_count": 168,
   "metadata": {
    "collapsed": true
   },
   "outputs": [],
   "source": [
    ""
   ]
  },
  {
   "cell_type": "code",
   "execution_count": null,
   "metadata": {},
   "outputs": [],
   "source": [
    ""
   ]
  }
 ],
 "metadata": {
  "kernelspec": {
   "display_name": "Python 2",
   "language": "python",
   "name": "python2"
  },
  "language_info": {
   "codemirror_mode": {
    "name": "ipython",
    "version": 2.0
   },
   "file_extension": ".py",
   "mimetype": "text/x-python",
   "name": "python",
   "nbconvert_exporter": "python",
   "pygments_lexer": "ipython2",
   "version": "2.7.6"
  }
 },
 "nbformat": 4,
 "nbformat_minor": 0
}